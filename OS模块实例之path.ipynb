{
 "cells": [
  {
   "cell_type": "markdown",
   "metadata": {},
   "source": [
    "# OS模块之路径\n",
    "在自动化测试中，经常需要查询操作文件，比如查找配置文件（从而读取配置文件的信息），查找测试报告等等。\n"
   ]
  },
  {
   "cell_type": "markdown",
   "metadata": {},
   "source": [
    "**os.getcwd()**\n",
    "> 功能：查看当前所在路径"
   ]
  },
  {
   "cell_type": "code",
   "execution_count": 1,
   "metadata": {},
   "outputs": [
    {
     "data": {
      "text/plain": [
       "'E:\\\\PythonProject\\\\anaconda\\\\OS--操作系统接口模块'"
      ]
     },
     "execution_count": 1,
     "metadata": {},
     "output_type": "execute_result"
    }
   ],
   "source": [
    "import os\n",
    "os.getcwd()"
   ]
  },
  {
   "cell_type": "markdown",
   "metadata": {},
   "source": [
    "**`os.listdir()`**\n",
    "> 列举目录下所有的文件，返回的是列表类型"
   ]
  },
  {
   "cell_type": "code",
   "execution_count": 2,
   "metadata": {},
   "outputs": [
    {
     "name": "stdout",
     "output_type": "stream",
     "text": [
      "['anaconda', 'venv'] ['.ipynb_checkpoints', 'Python虚拟环境.ipynb', 'vm1', 'vm2', 'vm3']\n"
     ]
    }
   ],
   "source": [
    "import os\n",
    "# test1中用“/”表示路径\n",
    "test1 = os.listdir('e:/PythonProject')\n",
    "# test1中用“\\\\”表示路径\n",
    "test2 = os.listdir('e:\\\\PythonProject\\\\venv')\n",
    "print(test1,test2)"
   ]
  },
  {
   "cell_type": "markdown",
   "metadata": {},
   "source": [
    "### 注明：路径链接用“/” 或“\\\\”表示上下级关系，否则会报错，后续都用反斜杠“/”表示"
   ]
  },
  {
   "cell_type": "markdown",
   "metadata": {},
   "source": [
    "**os.path.abspath(path)**\n",
    "> 功能：返回path的绝对路径 <br>\n",
    "绝对路径：【路径具体写法】：\"E:/PythonProject/anaconda/OS--操作系统接口模块\" <br>\n",
    "相对路径：【路径的简写】：\".\""
   ]
  },
  {
   "cell_type": "code",
   "execution_count": 3,
   "metadata": {},
   "outputs": [
    {
     "name": "stdout",
     "output_type": "stream",
     "text": [
      "绝对路径： E:\\PythonProject\\anaconda\\OS--操作系统接口模块\n",
      "相对路径： E:\\PythonProject\\anaconda\\OS--操作系统接口模块\n"
     ]
    }
   ],
   "source": [
    "import os \n",
    "# path1 :绝对路径\n",
    "path1 = os.path.abspath('E:/PythonProject/anaconda/OS--操作系统接口模块')\n",
    "print('绝对路径：',path1)\n",
    "# path2 :相对路径\n",
    "path2 = os.path.abspath('.')\n",
    "print('相对路径：',path2)"
   ]
  },
  {
   "cell_type": "markdown",
   "metadata": {},
   "source": [
    "**os.path.split(path)**\n",
    ">功能：将路径分解为（文件夹，文件名），返回的是元组类型<br>\n",
    "注意：若路径字符串最后一个字符是，则只有文件夹不符有值，若路径字符串中均无，则只有文件名部分有值，若路径字符串有\\且不在最后，则文件夹和文件名都有值，且返回的结果不包括\\"
   ]
  },
  {
   "cell_type": "code",
   "execution_count": 4,
   "metadata": {},
   "outputs": [
    {
     "data": {
      "text/plain": [
       "('e:/PythonProject/anaconda/jupyter notebook functions and usage',\n",
       " 'jupyter_doc.ipynb')"
      ]
     },
     "execution_count": 4,
     "metadata": {},
     "output_type": "execute_result"
    }
   ],
   "source": [
    "import os\n",
    "os.path.split(r'e:/PythonProject/anaconda/jupyter notebook functions and usage/jupyter_doc.ipynb')"
   ]
  },
  {
   "cell_type": "code",
   "execution_count": 5,
   "metadata": {},
   "outputs": [
    {
     "data": {
      "text/plain": [
       "('', '.')"
      ]
     },
     "execution_count": 5,
     "metadata": {},
     "output_type": "execute_result"
    }
   ],
   "source": [
    "import os\n",
    "os.path.split('.')"
   ]
  },
  {
   "cell_type": "code",
   "execution_count": 6,
   "metadata": {},
   "outputs": [
    {
     "data": {
      "text/plain": [
       "('e:\\\\PythonProject\\\\venv', '')"
      ]
     },
     "execution_count": 6,
     "metadata": {},
     "output_type": "execute_result"
    }
   ],
   "source": [
    "import os\n",
    "os.path.split('e:\\\\PythonProject\\\\venv\\\\')"
   ]
  },
  {
   "cell_type": "markdown",
   "metadata": {},
   "source": [
    "**os.path.join(path1,path2,...)**\n",
    "> 将path进行组合，若其中有绝对路径，则之前的path将会被删除"
   ]
  },
  {
   "cell_type": "code",
   "execution_count": 7,
   "metadata": {},
   "outputs": [
    {
     "name": "stdout",
     "output_type": "stream",
     "text": [
      "e:\\ProjectPython\\venv\\vm3\\dy.html\n",
      "e:\\ProjectPython\\venv\\vm3\\豆瓣电影TOP250_02.py\n"
     ]
    }
   ],
   "source": [
    "import os\n",
    "path_test1 = os.path.join(r'e:\\ProjectPython\\venv\\vm3','dy.html')\n",
    "print(path_test1)\n",
    "path_test2 = os.path.join(path_test1,r'e:\\ProjectPython\\venv\\vm3\\豆瓣电影TOP250_01.py',r'e:\\ProjectPython\\venv\\vm3\\豆瓣电影TOP250_02.py')\n",
    "print(path_test2)\n"
   ]
  },
  {
   "cell_type": "markdown",
   "metadata": {},
   "source": [
    "**os.path.dirname(path)**\n",
    "> 返回path中文件夹部分，不包括“\\”"
   ]
  },
  {
   "cell_type": "code",
   "execution_count": 8,
   "metadata": {},
   "outputs": [
    {
     "name": "stdout",
     "output_type": "stream",
     "text": [
      "path1: E:\\PythonProject\\anaconda\\OS--操作系统接口模块\n",
      "path2: \n",
      "path4: E:\\PythonProject\\anaconda\n"
     ]
    }
   ],
   "source": [
    "import os\n",
    "path1 = os.path.dirname(r'E:\\PythonProject\\anaconda\\OS--操作系统接口模块\\OS模块实例之path.ipynb')\n",
    "print('path1:',path1)\n",
    "path2 = os.path.dirname('.')\n",
    "print('path2:',path2)\n",
    "# path3 = os.path.dirname(r'E:\\PythonProject\\anaconda\\OS--操作系统接口模块\\')\n",
    "# print('path3:',path3)\n",
    "path4 = os.path.dirname(r'E:\\PythonProject\\anaconda\\OS--操作系统接口模块')\n",
    "print('path4:',path4)"
   ]
  },
  {
   "cell_type": "code",
   "execution_count": 9,
   "metadata": {},
   "outputs": [
    {
     "ename": "SyntaxError",
     "evalue": "EOL while scanning string literal (<ipython-input-9-ae62564ac77c>, line 1)",
     "output_type": "error",
     "traceback": [
      "\u001b[1;36m  File \u001b[1;32m\"<ipython-input-9-ae62564ac77c>\"\u001b[1;36m, line \u001b[1;32m1\u001b[0m\n\u001b[1;33m    path3 = os.path.dirname(r'e:\\PythonProject\\anaconda\\OS--操作系统接口模块\\')\u001b[0m\n\u001b[1;37m                                                                       ^\u001b[0m\n\u001b[1;31mSyntaxError\u001b[0m\u001b[1;31m:\u001b[0m EOL while scanning string literal\n"
     ]
    }
   ],
   "source": [
    "path3 = os.path.dirname(r'e:\\PythonProject\\anaconda\\OS--操作系统接口模块\\')"
   ]
  },
  {
   "cell_type": "markdown",
   "metadata": {},
   "source": [
    "**os.path.basename(path)**\n",
    "> 功能：返回path中的文件名"
   ]
  },
  {
   "cell_type": "code",
   "execution_count": 10,
   "metadata": {},
   "outputs": [
    {
     "name": "stdout",
     "output_type": "stream",
     "text": [
      "path1: OS模块实例之path.ipynb\n",
      "path2: .\n",
      "path4: OS--操作系统接口模块\n"
     ]
    }
   ],
   "source": [
    "import os\n",
    "path1 = os.path.basename(r'E:\\PythonProject\\anaconda\\OS--操作系统接口模块\\OS模块实例之path.ipynb')\n",
    "print('path1:',path1)\n",
    "path2 = os.path.basename('.')\n",
    "print('path2:',path2)\n",
    "# path3 = os.path.basename(r'E:\\PythonProject\\anaconda\\OS--操作系统接口模块\\')\n",
    "# print('path3:',path3)\n",
    "path4 = os.path.basename(r'E:\\PythonProject\\anaconda\\OS--操作系统接口模块')\n",
    "print('path4:',path4)"
   ]
  },
  {
   "cell_type": "markdown",
   "metadata": {},
   "source": [
    "**os.path.getsize(path)**\n",
    "> 功能：获取文件的大小，若文件不存在就返回错误"
   ]
  },
  {
   "cell_type": "code",
   "execution_count": 11,
   "metadata": {},
   "outputs": [
    {
     "name": "stdout",
     "output_type": "stream",
     "text": [
      "size1的大小是: 11796\n",
      "size2的大小是： 4096\n"
     ]
    }
   ],
   "source": [
    "import os\n",
    "size1 = os.path.getsize(r'E:\\PythonProject\\anaconda\\OS--操作系统接口模块\\OS模块实例之path.ipynb')\n",
    "print('size1的大小是:',size1)\n",
    "size2 = os.path.getsize(r'E:\\PythonProject\\anaconda\\OS--操作系统接口模块')\n",
    "print('size2的大小是：',size2)"
   ]
  },
  {
   "cell_type": "markdown",
   "metadata": {},
   "source": [
    "**os.path.exists(path)**\n",
    "> 功能：判断文件是否存在，若存在则返回True，否则返回False"
   ]
  },
  {
   "cell_type": "code",
   "execution_count": 12,
   "metadata": {},
   "outputs": [
    {
     "name": "stdout",
     "output_type": "stream",
     "text": [
      "['.ipynb_checkpoints', 'OS模块实例之path.ipynb']\n",
      "True\n",
      "False\n"
     ]
    }
   ],
   "source": [
    "import os\n",
    "path1 = os.listdir(os.getcwd())\n",
    "print(path1)\n",
    "path2 = os.path.exists(r'E:\\PythonProject\\anaconda\\OS--操作系统接口模块\\OS模块实例之path.ipynb')\n",
    "print(path2)\n",
    "path3 = os.path.exists(r'E:\\PythonProject\\anaconda\\OS--操作系统接口模块\\OS模块实例之path1.ipynb')\n",
    "print(path3)"
   ]
  },
  {
   "cell_type": "markdown",
   "metadata": {},
   "source": [
    "**os.path.isdir(path)**\n",
    "> 功能：判断该路径是否为目录"
   ]
  },
  {
   "cell_type": "code",
   "execution_count": 13,
   "metadata": {},
   "outputs": [
    {
     "name": "stdout",
     "output_type": "stream",
     "text": [
      "True\n",
      "False\n"
     ]
    }
   ],
   "source": [
    "import os\n",
    "path1 = os.path.isdir(r'E:\\PythonProject\\anaconda\\OS--操作系统接口模块')\n",
    "print(path1)\n",
    "path2 = os.path.isdir(r'E:\\PythonProject\\anaconda\\OS--操作系统接口模块\\OS模块实例之path.ipynb')\n",
    "print(path2)"
   ]
  },
  {
   "cell_type": "markdown",
   "metadata": {},
   "source": [
    "**os.path.isfile(path)**\n",
    "> 功能：判断该路径是否为文件"
   ]
  },
  {
   "cell_type": "code",
   "execution_count": 14,
   "metadata": {},
   "outputs": [
    {
     "name": "stdout",
     "output_type": "stream",
     "text": [
      "False\n",
      "True\n"
     ]
    }
   ],
   "source": [
    "import os\n",
    "path1 = os.path.isfile(r'E:\\PythonProject\\anaconda\\OS--操作系统接口模块')\n",
    "print(path1)\n",
    "path2 = os.path.isfile(r'E:\\PythonProject\\anaconda\\OS--操作系统接口模块\\OS模块实例之path.ipynb')\n",
    "print(path2)"
   ]
  },
  {
   "cell_type": "code",
   "execution_count": null,
   "metadata": {},
   "outputs": [],
   "source": []
  }
 ],
 "metadata": {
  "kernelspec": {
   "display_name": "Python 3",
   "language": "python",
   "name": "python3"
  },
  "language_info": {
   "codemirror_mode": {
    "name": "ipython",
    "version": 3
   },
   "file_extension": ".py",
   "mimetype": "text/x-python",
   "name": "python",
   "nbconvert_exporter": "python",
   "pygments_lexer": "ipython3",
   "version": "3.7.6"
  },
  "toc": {
   "base_numbering": 1,
   "nav_menu": {},
   "number_sections": true,
   "sideBar": true,
   "skip_h1_title": false,
   "title_cell": "Table of Contents",
   "title_sidebar": "Contents",
   "toc_cell": false,
   "toc_position": {},
   "toc_section_display": true,
   "toc_window_display": false
  }
 },
 "nbformat": 4,
 "nbformat_minor": 4
}
